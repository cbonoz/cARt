{
 "cells": [
  {
   "cell_type": "code",
   "execution_count": 28,
   "metadata": {},
   "outputs": [],
   "source": [
    "import pandas as pd\n",
    "from scipy.spatial.distance import cosine\n",
    "import numpy as np\n",
    "from scipy.sparse import csr_matrix\n",
    "from __future__ import division\n",
    "import matplotlib.pyplot as plt\n",
    "%matplotlib inline\n",
    "\n",
    "# display results to 3 decimal points, not in scientific notation\n",
    "pd.set_option('display.float_format', lambda x: '%.3f' % x)"
   ]
  },
  {
   "cell_type": "code",
   "execution_count": 29,
   "metadata": {},
   "outputs": [],
   "source": [
    "from simplestatistics import *\n",
    "# Mean\tmean([1, 2, 3])\n",
    "# Median\tmedian([10, 2, -5, -1])\n",
    "# Mode\tmode([2, 1, 3, 2, 1])\n",
    "# Geometric mean\tgeometric_mean([1, 10])\n",
    "# Harmonic mean\tharmonic_mean([1, 2, 4])\n",
    "# Root mean square\troot_mean_square([1, -1, 1, -1])\n",
    "# Add to mean\tadd_to_mean(40, 4, (10, 12))\n",
    "# Skewness\tskew([1, 2, 5])\n",
    "# Kurtosis\tkurtosis([1, 2, 3, 4, 5])\n",
    "# Sample and population variance\tvariance([1, 2, 3], sample = True)\n",
    "# Sample and population Standard deviation\tstandard_deviation([1, 2, 3], sample = True)\n",
    "# Sample and population Coefficient of variation\tcoefficient_of_variation([1, 2, 3], sample = True)\n",
    "# Interquartile range\tinterquartile_range([1, 3, 5, 7])\n",
    "# Sum of Nth power deviations\tsum_nth_power_deviations([-1, 0, 2, 4], 3)\n",
    "# Sample and population Standard scores (z-scores)\tz_scores([-2, -1, 0, 1, 2], sample = True)\n",
    "def process_data(accel_data, gyro_data):\n",
    "    \"\"\"\n",
    "    Return raw accel or gyro data in the form of a training sample for prediction\n",
    "    :param accel: accel data for prediction\n",
    "    :param gyro: gyro data for prediction\n",
    "    :return: dataframe with one row ready for prediction via the 'predict' method below.\n",
    "    \"\"\"\n",
    "\n",
    "    df = {}\n",
    "    for col in ['x', 'y', 'z']:\n",
    "        accel = list(map(lambda val: val[col], accel_data))\n",
    "        gyro = list(map(lambda val: val[col], gyro_data))\n",
    "#         print(accel, len(gyro))\n",
    "        df['accel-mean-%s' % col] = mean(accel)\n",
    "        df['accel-median-%s' % col] = median(accel)\n",
    "#         df['accel-mode-%s' % col] = mode(accel)\n",
    "#         df['accel-skew-%s' % col] = skew(accel)\n",
    "#         df['accel-kurt-%s' % col] = kurtosis(accel)\n",
    "        df['accel-rms-%s' % col] = root_mean_square(accel)\n",
    "        df['accel-std-%s' % col] = standard_deviation(accel)\n",
    "#         df['accel-zscore-%s' % col] = z_scores(accel)\n",
    "        df['accel-min-%s' % col] = min(accel)\n",
    "        df['accel-max-%s' % col] = max(accel)\n",
    "\n",
    "        df['gyro-mean-%s' % col] = mean(gyro)\n",
    "        df['gyro-median-%s' % col] = median(gyro)\n",
    "#         df['gyro-mode-%s' % col] = mode(gyro)\n",
    "#         df['gyro-skew-%s' % col] = skew(gyro)\n",
    "#         df['gyro-kurt-%s' % col] = kurtosis(gyro)\n",
    "        df['gyro-rms-%s' % col] = root_mean_square(gyro)\n",
    "        df['gyro-std-%s' % col] = standard_deviation(gyro)\n",
    "#         df['gyro-zscore-%s' % col] = z_scores(gyro)\n",
    "        df['gyro-min-%s' % col] = min(gyro)\n",
    "        df['gyro-max-%s' % col] = max(gyro)\n",
    "\n",
    "#     return pd.Series(df).to_frame()\n",
    "    return df\n",
    "\n",
    "def chunkIt(seq, num):\n",
    "    avg = len(seq) / float(num)\n",
    "    out = []\n",
    "    last = 0.0\n",
    "\n",
    "    while last < len(seq):\n",
    "        out.append(seq[int(last):int(last + avg)])\n",
    "        last += avg\n",
    "\n",
    "    return out\n",
    "\n",
    "def split_file(file_name, num_files=10):\n",
    "    with open(file_name, 'r') as handle:\n",
    "        features = handle.readlines()\n",
    "        return chunkIt(features, num_files)"
   ]
  },
  {
   "cell_type": "code",
   "execution_count": 30,
   "metadata": {},
   "outputs": [
    {
     "name": "stdout",
     "output_type": "stream",
     "text": [
      "['accel-max-x' 'accel-max-y' 'accel-max-z' 'accel-mean-x' 'accel-mean-y'\n",
      " 'accel-mean-z' 'accel-median-x' 'accel-median-y' 'accel-median-z'\n",
      " 'accel-min-x' 'accel-min-y' 'accel-min-z' 'accel-rms-x' 'accel-rms-y'\n",
      " 'accel-rms-z' 'accel-std-x' 'accel-std-y' 'accel-std-z' 'gyro-max-x'\n",
      " 'gyro-max-y' 'gyro-max-z' 'gyro-mean-x' 'gyro-mean-y' 'gyro-mean-z'\n",
      " 'gyro-median-x' 'gyro-median-y' 'gyro-median-z' 'gyro-min-x' 'gyro-min-y'\n",
      " 'gyro-min-z' 'gyro-rms-x' 'gyro-rms-y' 'gyro-rms-z' 'gyro-std-x'\n",
      " 'gyro-std-y' 'gyro-std-z' 'label'] (40, 37)\n"
     ]
    }
   ],
   "source": [
    "calm_accel = []\n",
    "import os\n",
    "from decimal import Decimal\n",
    "res = []\n",
    "for file_type in ['calm', 'stim']:\n",
    "#     with open('./data/accel_data_%s.txt' % file_type) as handle:\n",
    "#         features = handle.readlines()\n",
    "#         features = list(map(lambda x: x.strip().split()[:-1], features))\n",
    "#         calm_accel = list(map(lambda x: {'x': float(x[0]), 'y': float(x[1]), 'z': float(x[2])}, features))\n",
    "#     calm_gyro = []\n",
    "#     with open('./data/gyro_data_%s.txt' % file_type) as handle:\n",
    "#         features = handle.readlines()\n",
    "#         features = list(map(lambda x: x.strip().split()[:-1], features))\n",
    "#         calm_gyro = list(map(lambda x: {'x': float(x[0]), 'y': float(x[1]), 'z': float(x[2])}, features))\n",
    "#     # print(calm_accel, calm_gyro)\n",
    "#     df = process_data(calm_accel, calm_gyro)\n",
    "#     print(df)\n",
    "    num_files = 20\n",
    "    accel_sets = split_file('./data/accel_data_%s.txt' % file_type, num_files)\n",
    "    gyro_sets = split_file('./data/gyro_data_%s.txt' % file_type, num_files)\n",
    "    for i in range(num_files):\n",
    "        accel = accel_sets[i]\n",
    "        gyro = gyro_sets[i]\n",
    "        accel = list(map(lambda x: x.strip().split()[:-1], accel))\n",
    "        accel = list(map(lambda x: {'x': float(x[0]), 'y': float(x[1]), 'z': float(x[2])}, accel))\n",
    "        gyro = list(map(lambda x: x.strip().split()[:-1], gyro))\n",
    "        gyro = list(map(lambda x: {'x': float(x[0]), 'y': float(x[1]), 'z': float(x[2])}, gyro))\n",
    "#         print(accel, gyro)\n",
    "        d = process_data(accel, gyro)\n",
    "        d['label'] = file_type == 'stim'\n",
    "        res.append(d)\n",
    "\n",
    "    \n",
    "df = pd.DataFrame.from_dict(res)\n",
    "print(df.columns.values, df.shape)"
   ]
  },
  {
   "cell_type": "code",
   "execution_count": 31,
   "metadata": {},
   "outputs": [],
   "source": [
    "def ok_col(col):\n",
    "    ok_words = ['Mean', 'Min', 'Max', 'STD']\n",
    "    bad_words = ['Jerk']\n",
    "    return any(word in col for word in ok_words) and not any(word in col for word in bad_words)"
   ]
  },
  {
   "cell_type": "code",
   "execution_count": 32,
   "metadata": {},
   "outputs": [],
   "source": [
    "# with open('/Users/cbuonocore/Downloads/HAPT Data Set/features.txt') as handle:\n",
    "#     features = handle.readlines()\n",
    "#     features = list(map(lambda x: x.strip(), features))"
   ]
  },
  {
   "cell_type": "code",
   "execution_count": 33,
   "metadata": {},
   "outputs": [],
   "source": [
    "# with open('/Users/cbuonocore/Downloads/HAPT Data Set/activity_labels.txt') as handle:\n",
    "#     activity_labels = handle.readlines()\n",
    "#     activity_labels = list(map(lambda x: x.strip(), activity_labels))\n"
   ]
  },
  {
   "cell_type": "code",
   "execution_count": 34,
   "metadata": {},
   "outputs": [
    {
     "data": {
      "text/html": [
       "<div>\n",
       "<style scoped>\n",
       "    .dataframe tbody tr th:only-of-type {\n",
       "        vertical-align: middle;\n",
       "    }\n",
       "\n",
       "    .dataframe tbody tr th {\n",
       "        vertical-align: top;\n",
       "    }\n",
       "\n",
       "    .dataframe thead th {\n",
       "        text-align: right;\n",
       "    }\n",
       "</style>\n",
       "<table border=\"1\" class=\"dataframe\">\n",
       "  <thead>\n",
       "    <tr style=\"text-align: right;\">\n",
       "      <th></th>\n",
       "      <th>0</th>\n",
       "    </tr>\n",
       "  </thead>\n",
       "  <tbody>\n",
       "    <tr>\n",
       "      <th>0</th>\n",
       "      <td>NOT_STIMMING</td>\n",
       "    </tr>\n",
       "    <tr>\n",
       "      <th>1</th>\n",
       "      <td>STIMMING</td>\n",
       "    </tr>\n",
       "  </tbody>\n",
       "</table>\n",
       "</div>"
      ],
      "text/plain": [
       "              0\n",
       "0  NOT_STIMMING\n",
       "1      STIMMING"
      ]
     },
     "execution_count": 34,
     "metadata": {},
     "output_type": "execute_result"
    }
   ],
   "source": [
    "# activity_df = pd.DataFrame(activity_labels)\n",
    "# activity_df = pd.DataFrame(activity_df[0].str.split(' ').tolist(),\n",
    "#                            columns = ['activity_id', 'activity_label'])\n",
    "# activity_df\n",
    "activity_dict = {\n",
    "    0: 'NOT_STIMMING',\n",
    "    1: 'STIMMING'\n",
    "}\n",
    "activity_df = pd.Series(activity_dict).to_frame()\n",
    "activity_df"
   ]
  },
  {
   "cell_type": "code",
   "execution_count": null,
   "metadata": {},
   "outputs": [],
   "source": []
  },
  {
   "cell_type": "code",
   "execution_count": 35,
   "metadata": {},
   "outputs": [],
   "source": [
    "x_train = df.drop('label', axis=1)\n",
    "y_train = df['label']"
   ]
  },
  {
   "cell_type": "code",
   "execution_count": 54,
   "metadata": {},
   "outputs": [
    {
     "data": {
      "text/html": [
       "<div>\n",
       "<style scoped>\n",
       "    .dataframe tbody tr th:only-of-type {\n",
       "        vertical-align: middle;\n",
       "    }\n",
       "\n",
       "    .dataframe tbody tr th {\n",
       "        vertical-align: top;\n",
       "    }\n",
       "\n",
       "    .dataframe thead th {\n",
       "        text-align: right;\n",
       "    }\n",
       "</style>\n",
       "<table border=\"1\" class=\"dataframe\">\n",
       "  <thead>\n",
       "    <tr style=\"text-align: right;\">\n",
       "      <th></th>\n",
       "      <th>accel-std-x</th>\n",
       "      <th>accel-std-y</th>\n",
       "      <th>accel-std-z</th>\n",
       "    </tr>\n",
       "  </thead>\n",
       "  <tbody>\n",
       "    <tr>\n",
       "      <th>0</th>\n",
       "      <td>1.970</td>\n",
       "      <td>4.041</td>\n",
       "      <td>1.433</td>\n",
       "    </tr>\n",
       "    <tr>\n",
       "      <th>1</th>\n",
       "      <td>2.633</td>\n",
       "      <td>2.419</td>\n",
       "      <td>1.784</td>\n",
       "    </tr>\n",
       "    <tr>\n",
       "      <th>2</th>\n",
       "      <td>2.019</td>\n",
       "      <td>2.847</td>\n",
       "      <td>0.725</td>\n",
       "    </tr>\n",
       "    <tr>\n",
       "      <th>3</th>\n",
       "      <td>3.197</td>\n",
       "      <td>1.317</td>\n",
       "      <td>2.696</td>\n",
       "    </tr>\n",
       "    <tr>\n",
       "      <th>4</th>\n",
       "      <td>4.520</td>\n",
       "      <td>1.363</td>\n",
       "      <td>3.642</td>\n",
       "    </tr>\n",
       "    <tr>\n",
       "      <th>5</th>\n",
       "      <td>1.511</td>\n",
       "      <td>1.433</td>\n",
       "      <td>3.811</td>\n",
       "    </tr>\n",
       "    <tr>\n",
       "      <th>6</th>\n",
       "      <td>1.067</td>\n",
       "      <td>1.692</td>\n",
       "      <td>4.382</td>\n",
       "    </tr>\n",
       "    <tr>\n",
       "      <th>7</th>\n",
       "      <td>0.744</td>\n",
       "      <td>1.224</td>\n",
       "      <td>3.339</td>\n",
       "    </tr>\n",
       "    <tr>\n",
       "      <th>8</th>\n",
       "      <td>0.761</td>\n",
       "      <td>0.997</td>\n",
       "      <td>1.792</td>\n",
       "    </tr>\n",
       "    <tr>\n",
       "      <th>9</th>\n",
       "      <td>1.095</td>\n",
       "      <td>1.734</td>\n",
       "      <td>2.701</td>\n",
       "    </tr>\n",
       "    <tr>\n",
       "      <th>10</th>\n",
       "      <td>3.411</td>\n",
       "      <td>2.695</td>\n",
       "      <td>1.992</td>\n",
       "    </tr>\n",
       "    <tr>\n",
       "      <th>11</th>\n",
       "      <td>4.378</td>\n",
       "      <td>2.885</td>\n",
       "      <td>3.245</td>\n",
       "    </tr>\n",
       "    <tr>\n",
       "      <th>12</th>\n",
       "      <td>4.100</td>\n",
       "      <td>3.018</td>\n",
       "      <td>2.534</td>\n",
       "    </tr>\n",
       "    <tr>\n",
       "      <th>13</th>\n",
       "      <td>4.446</td>\n",
       "      <td>1.866</td>\n",
       "      <td>1.514</td>\n",
       "    </tr>\n",
       "    <tr>\n",
       "      <th>14</th>\n",
       "      <td>1.950</td>\n",
       "      <td>1.421</td>\n",
       "      <td>4.712</td>\n",
       "    </tr>\n",
       "    <tr>\n",
       "      <th>15</th>\n",
       "      <td>1.366</td>\n",
       "      <td>3.561</td>\n",
       "      <td>6.390</td>\n",
       "    </tr>\n",
       "    <tr>\n",
       "      <th>16</th>\n",
       "      <td>0.930</td>\n",
       "      <td>1.321</td>\n",
       "      <td>0.677</td>\n",
       "    </tr>\n",
       "    <tr>\n",
       "      <th>17</th>\n",
       "      <td>1.817</td>\n",
       "      <td>0.391</td>\n",
       "      <td>0.628</td>\n",
       "    </tr>\n",
       "    <tr>\n",
       "      <th>18</th>\n",
       "      <td>0.824</td>\n",
       "      <td>2.864</td>\n",
       "      <td>0.519</td>\n",
       "    </tr>\n",
       "    <tr>\n",
       "      <th>19</th>\n",
       "      <td>0.651</td>\n",
       "      <td>0.298</td>\n",
       "      <td>0.312</td>\n",
       "    </tr>\n",
       "    <tr>\n",
       "      <th>20</th>\n",
       "      <td>6.016</td>\n",
       "      <td>6.656</td>\n",
       "      <td>9.955</td>\n",
       "    </tr>\n",
       "    <tr>\n",
       "      <th>21</th>\n",
       "      <td>6.001</td>\n",
       "      <td>8.733</td>\n",
       "      <td>14.209</td>\n",
       "    </tr>\n",
       "    <tr>\n",
       "      <th>22</th>\n",
       "      <td>4.804</td>\n",
       "      <td>7.293</td>\n",
       "      <td>12.475</td>\n",
       "    </tr>\n",
       "    <tr>\n",
       "      <th>23</th>\n",
       "      <td>4.138</td>\n",
       "      <td>7.139</td>\n",
       "      <td>11.912</td>\n",
       "    </tr>\n",
       "    <tr>\n",
       "      <th>24</th>\n",
       "      <td>2.543</td>\n",
       "      <td>5.438</td>\n",
       "      <td>8.541</td>\n",
       "    </tr>\n",
       "    <tr>\n",
       "      <th>25</th>\n",
       "      <td>3.102</td>\n",
       "      <td>8.528</td>\n",
       "      <td>8.862</td>\n",
       "    </tr>\n",
       "    <tr>\n",
       "      <th>26</th>\n",
       "      <td>3.427</td>\n",
       "      <td>11.945</td>\n",
       "      <td>11.418</td>\n",
       "    </tr>\n",
       "    <tr>\n",
       "      <th>27</th>\n",
       "      <td>3.331</td>\n",
       "      <td>11.005</td>\n",
       "      <td>13.543</td>\n",
       "    </tr>\n",
       "    <tr>\n",
       "      <th>28</th>\n",
       "      <td>3.914</td>\n",
       "      <td>12.601</td>\n",
       "      <td>10.220</td>\n",
       "    </tr>\n",
       "    <tr>\n",
       "      <th>29</th>\n",
       "      <td>4.439</td>\n",
       "      <td>13.236</td>\n",
       "      <td>9.069</td>\n",
       "    </tr>\n",
       "    <tr>\n",
       "      <th>30</th>\n",
       "      <td>3.979</td>\n",
       "      <td>15.391</td>\n",
       "      <td>9.602</td>\n",
       "    </tr>\n",
       "    <tr>\n",
       "      <th>31</th>\n",
       "      <td>4.711</td>\n",
       "      <td>13.014</td>\n",
       "      <td>9.620</td>\n",
       "    </tr>\n",
       "    <tr>\n",
       "      <th>32</th>\n",
       "      <td>4.593</td>\n",
       "      <td>14.505</td>\n",
       "      <td>7.014</td>\n",
       "    </tr>\n",
       "    <tr>\n",
       "      <th>33</th>\n",
       "      <td>3.007</td>\n",
       "      <td>11.374</td>\n",
       "      <td>8.921</td>\n",
       "    </tr>\n",
       "    <tr>\n",
       "      <th>34</th>\n",
       "      <td>3.380</td>\n",
       "      <td>13.585</td>\n",
       "      <td>8.826</td>\n",
       "    </tr>\n",
       "    <tr>\n",
       "      <th>35</th>\n",
       "      <td>3.838</td>\n",
       "      <td>15.079</td>\n",
       "      <td>10.472</td>\n",
       "    </tr>\n",
       "    <tr>\n",
       "      <th>36</th>\n",
       "      <td>3.979</td>\n",
       "      <td>10.817</td>\n",
       "      <td>9.749</td>\n",
       "    </tr>\n",
       "    <tr>\n",
       "      <th>37</th>\n",
       "      <td>4.776</td>\n",
       "      <td>7.092</td>\n",
       "      <td>8.721</td>\n",
       "    </tr>\n",
       "    <tr>\n",
       "      <th>38</th>\n",
       "      <td>3.341</td>\n",
       "      <td>13.143</td>\n",
       "      <td>8.029</td>\n",
       "    </tr>\n",
       "    <tr>\n",
       "      <th>39</th>\n",
       "      <td>4.350</td>\n",
       "      <td>8.151</td>\n",
       "      <td>10.005</td>\n",
       "    </tr>\n",
       "  </tbody>\n",
       "</table>\n",
       "</div>"
      ],
      "text/plain": [
       "    accel-std-x  accel-std-y  accel-std-z\n",
       "0         1.970        4.041        1.433\n",
       "1         2.633        2.419        1.784\n",
       "2         2.019        2.847        0.725\n",
       "3         3.197        1.317        2.696\n",
       "4         4.520        1.363        3.642\n",
       "5         1.511        1.433        3.811\n",
       "6         1.067        1.692        4.382\n",
       "7         0.744        1.224        3.339\n",
       "8         0.761        0.997        1.792\n",
       "9         1.095        1.734        2.701\n",
       "10        3.411        2.695        1.992\n",
       "11        4.378        2.885        3.245\n",
       "12        4.100        3.018        2.534\n",
       "13        4.446        1.866        1.514\n",
       "14        1.950        1.421        4.712\n",
       "15        1.366        3.561        6.390\n",
       "16        0.930        1.321        0.677\n",
       "17        1.817        0.391        0.628\n",
       "18        0.824        2.864        0.519\n",
       "19        0.651        0.298        0.312\n",
       "20        6.016        6.656        9.955\n",
       "21        6.001        8.733       14.209\n",
       "22        4.804        7.293       12.475\n",
       "23        4.138        7.139       11.912\n",
       "24        2.543        5.438        8.541\n",
       "25        3.102        8.528        8.862\n",
       "26        3.427       11.945       11.418\n",
       "27        3.331       11.005       13.543\n",
       "28        3.914       12.601       10.220\n",
       "29        4.439       13.236        9.069\n",
       "30        3.979       15.391        9.602\n",
       "31        4.711       13.014        9.620\n",
       "32        4.593       14.505        7.014\n",
       "33        3.007       11.374        8.921\n",
       "34        3.380       13.585        8.826\n",
       "35        3.838       15.079       10.472\n",
       "36        3.979       10.817        9.749\n",
       "37        4.776        7.092        8.721\n",
       "38        3.341       13.143        8.029\n",
       "39        4.350        8.151       10.005"
      ]
     },
     "execution_count": 54,
     "metadata": {},
     "output_type": "execute_result"
    }
   ],
   "source": [
    "df[['accel-std-x',\n",
    "       'accel-std-y', 'accel-std-z']]"
   ]
  },
  {
   "cell_type": "code",
   "execution_count": 37,
   "metadata": {
    "scrolled": false
   },
   "outputs": [
    {
     "name": "stdout",
     "output_type": "stream",
     "text": [
      "36\n",
      "['accel-max-x' 'accel-max-y' 'accel-max-z' 'accel-mean-x' 'accel-mean-y'\n",
      " 'accel-mean-z' 'accel-median-x' 'accel-median-y' 'accel-median-z'\n",
      " 'accel-min-x' 'accel-min-y' 'accel-min-z' 'accel-rms-x' 'accel-rms-y'\n",
      " 'accel-rms-z' 'accel-std-x' 'accel-std-y' 'accel-std-z' 'gyro-max-x'\n",
      " 'gyro-max-y' 'gyro-max-z' 'gyro-mean-x' 'gyro-mean-y' 'gyro-mean-z'\n",
      " 'gyro-median-x' 'gyro-median-y' 'gyro-median-z' 'gyro-min-x' 'gyro-min-y'\n",
      " 'gyro-min-z' 'gyro-rms-x' 'gyro-rms-y' 'gyro-rms-z' 'gyro-std-x'\n",
      " 'gyro-std-y' 'gyro-std-z']\n"
     ]
    }
   ],
   "source": [
    "# x_train = pd.read_table('/Users/cbuonocore/Downloads/HAPT Data Set/Train/X_train.txt',\n",
    "#              header = None, sep = \" \", names = features)\n",
    "# cols = x_train.columns.values\n",
    "\n",
    "\n",
    "# ok_cols = [ 'tBodyGyro-Mean-1', 'tBodyGyro-Mean-2', 'tBodyGyro-Mean-3', 'tBodyGyro-STD-1',\n",
    "#  'tBodyGyro-STD-2' ,'tBodyGyro-STD-3', 'tBodyGyro-Max-1', 'tBodyGyro-Max-2',\n",
    "#  'tBodyGyro-Max-3', 'tBodyGyro-Min-1', 'tBodyGyro-Min-2', 'tBodyGyro-Min-3','tBodyAcc-Mean-1',\n",
    "#            'tBodyAcc-Mean-2', 'tBodyAcc-Mean-3', 'tBodyAcc-STD-1',\n",
    "#  'tBodyAcc-STD-2', 'tBodyAcc-STD-3', 'tBodyAcc-Max-1', 'tBodyAcc-Max-2',\n",
    "#  'tBodyAcc-Max-3', 'tBodyAcc-Min-1', 'tBodyAcc-Min-2', 'tBodyAcc-Min-3']\n",
    "# ok_cols = list(filter(ok_col, cols))\n",
    "# x_train = x_train[ok_cols]\n",
    "\n",
    "\n",
    "x_train.head()\n",
    "print(len(x_train.columns.values))\n",
    "print(x_train.columns.values)"
   ]
  },
  {
   "cell_type": "code",
   "execution_count": 38,
   "metadata": {},
   "outputs": [],
   "source": [
    "# y_train = pd.read_table('/Users/cbuonocore/Downloads/HAPT Data Set/Train/y_train.txt',\n",
    "#              header = None, sep = \" \", names = ['activity_id'])\n",
    "# y_train.head()"
   ]
  },
  {
   "cell_type": "code",
   "execution_count": 39,
   "metadata": {},
   "outputs": [],
   "source": [
    "# x_test = pd.read_table('/Users/cbuonocore/Downloads/HAPT Data Set/Test/X_test.txt',\n",
    "#              header = None, sep = \" \", names = features)\n",
    "# x_test.iloc[:10, :10].head()"
   ]
  },
  {
   "cell_type": "code",
   "execution_count": 40,
   "metadata": {},
   "outputs": [],
   "source": [
    "# y_test = pd.read_table('/Users/cbuonocore/Downloads/HAPT Data Set/Test/y_test.txt',\n",
    "#              header = None, sep = \" \", names = ['activity_id'])\n",
    "# y_test.head()"
   ]
  },
  {
   "cell_type": "markdown",
   "metadata": {},
   "source": [
    "# Building a Human Activity Classifier"
   ]
  },
  {
   "cell_type": "markdown",
   "metadata": {},
   "source": [
    "Now that we've got the train and test data loaded into memory, we can start building a model to predict the activity from the acceleration and angular velocity features.\n",
    "\n",
    "Let's build a model and plot the cross-validation accuracy curves for the training data. We'll split `x_train` and `y_train` into training and validation sets since we only want to predict on the test set once. We'll use 5-fold cross validation to get a good sense of the model's accuracy at different values of C. To plot the curves, we'll use the `validation_curve` function from sklearn."
   ]
  },
  {
   "cell_type": "code",
   "execution_count": 41,
   "metadata": {},
   "outputs": [],
   "source": [
    "from sklearn.svm import LinearSVC\n",
    "from sklearn.grid_search import GridSearchCV\n",
    "from sklearn.learning_curve import validation_curve\n",
    "\n",
    "C_params = np.logspace(-6, 3, 10)\n",
    "svc_2 = LinearSVC(random_state = 12)\n",
    "\n",
    "train_scores, test_scores = validation_curve(\n",
    "    svc_2, x_train.values, y_train.values.flatten(),\n",
    "    param_name=\"C\", param_range=C_params,\n",
    "    cv=5, scoring=\"accuracy\", n_jobs=-1)"
   ]
  },
  {
   "cell_type": "code",
   "execution_count": 42,
   "metadata": {},
   "outputs": [],
   "source": [
    "train_scores_mean = np.mean(train_scores, axis=1)\n",
    "train_scores_std = np.std(train_scores, axis=1)\n",
    "test_scores_mean = np.mean(test_scores, axis=1)\n",
    "test_scores_std = np.std(test_scores, axis=1)"
   ]
  },
  {
   "cell_type": "code",
   "execution_count": 43,
   "metadata": {},
   "outputs": [],
   "source": [
    "import seaborn as sns"
   ]
  },
  {
   "cell_type": "code",
   "execution_count": 44,
   "metadata": {},
   "outputs": [
    {
     "data": {
      "image/png": "[encoded data removed]",
      "text/plain": [
       "<matplotlib.figure.Figure at 0x118459c18>"
      ]
     },
     "metadata": {},
     "output_type": "display_data"
    }
   ],
   "source": [
    "y_min = 0.5\n",
    "y_max = 1.0\n",
    "\n",
    "f = plt.figure(figsize = (12, 8))\n",
    "ax = plt.axes()\n",
    "sns.set(font_scale = 1.25)\n",
    "sns.set_style(\"darkgrid\")\n",
    "plt.title(\"SVM Training and Validation Accuracy\")\n",
    "plt.xlabel(\"C Value\")\n",
    "plt.ylabel(\"Accuracy\")\n",
    "plt.ylim(y_min, y_max)\n",
    "plt.yticks(np.arange(y_min, y_max + .01, .05))\n",
    "plt.semilogx(C_params, train_scores_mean, label=\"CV Training Accuracy\", color=\"red\")\n",
    "plt.fill_between(C_params, train_scores_mean - train_scores_std,\n",
    "                 train_scores_mean + train_scores_std, alpha=0.2, color=\"red\")\n",
    "plt.semilogx(C_params, test_scores_mean, label=\"CV Validation Accuracy\",\n",
    "             color=\"green\")\n",
    "plt.fill_between(C_params, test_scores_mean - test_scores_std,\n",
    "                 test_scores_mean + test_scores_std, alpha=0.2, color=\"green\")\n",
    "plt.legend(loc=\"best\")\n",
    "plt.show()"
   ]
  },
  {
   "cell_type": "markdown",
   "metadata": {},
   "source": [
    "From the graph, it looks like the best value of C is at 10<sup>-1</sup>. The validation accuracy begins slowly decreasing after that 10<sup>-1</sup>, indicating we are overfitting. The validation curve looks great, but we only optimized on C. We don't have to use a linear kernel. We could do a grid search on different kernels and C values. With a larger search space, we might get a different set of optimal parameters.\n",
    "\n",
    "Let's run a parameter grid search to see what the optimal parameters are for the SVM model. We'll switch to the general Support Vector Classifier in `sklearn` so we can have the option to try non-linear kernels."
   ]
  },
  {
   "cell_type": "code",
   "execution_count": 45,
   "metadata": {},
   "outputs": [
    {
     "data": {
      "text/plain": [
       "GridSearchCV(cv=5, error_score='raise',\n",
       "       estimator=SVC(C=1.0, cache_size=200, class_weight=None, coef0=0.0,\n",
       "  decision_function_shape='ovr', degree=3, gamma='auto', kernel='rbf',\n",
       "  max_iter=-1, probability=False, random_state=12, shrinking=True,\n",
       "  tol=0.001, verbose=False),\n",
       "       fit_params={}, iid=True, n_jobs=-1,\n",
       "       param_grid=[{'kernel': ['rbf'], 'C': array([1.e-06, 1.e-05, 1.e-04, 1.e-03, 1.e-02, 1.e-01, 1.e+00, 1.e+01,\n",
       "       1.e+02, 1.e+03])}, {'kernel': ['linear'], 'C': array([1.e-06, 1.e-05, 1.e-04, 1.e-03, 1.e-02, 1.e-01, 1.e+00, 1.e+01,\n",
       "       1.e+02, 1.e+03])}],\n",
       "       pre_dispatch='2*n_jobs', refit=True, scoring=None, verbose=0)"
      ]
     },
     "execution_count": 45,
     "metadata": {},
     "output_type": "execute_result"
    }
   ],
   "source": [
    "from sklearn.svm import SVC\n",
    "\n",
    "Cs = np.logspace(-6, 3, 10)\n",
    "parameters = [{'kernel': ['rbf'], 'C': Cs},\n",
    "              {'kernel': ['linear'], 'C': Cs}]\n",
    "\n",
    "svc = SVC(random_state = 12)\n",
    "\n",
    "clf = GridSearchCV(estimator = svc, param_grid = parameters, cv = 5, n_jobs = -1)\n",
    "clf.fit(x_train.values, y_train.values.flatten())"
   ]
  },
  {
   "cell_type": "code",
   "execution_count": 46,
   "metadata": {
    "scrolled": true
   },
   "outputs": [
    {
     "name": "stdout",
     "output_type": "stream",
     "text": [
      "SVC(C=1e-06, cache_size=200, class_weight=None, coef0=0.0,\n",
      "  decision_function_shape='ovr', degree=3, gamma='auto', kernel='linear',\n",
      "  max_iter=-1, probability=False, random_state=12, shrinking=True,\n",
      "  tol=0.001, verbose=False)\n",
      "{'C': 1e-06, 'kernel': 'linear'}\n",
      "1.0\n"
     ]
    }
   ],
   "source": [
    "print(clf.best_estimator_)\n",
    "print(clf.best_params_)\n",
    "print(clf.best_score_)"
   ]
  },
  {
   "cell_type": "code",
   "execution_count": 47,
   "metadata": {},
   "outputs": [
    {
     "data": {
      "text/plain": [
       "['./stim_clf.pkl']"
      ]
     },
     "execution_count": 47,
     "metadata": {},
     "output_type": "execute_result"
    }
   ],
   "source": [
    "# Save the model\n",
    "from sklearn.externals import joblib\n",
    "joblib.dump(clf, './stim_clf.pkl')"
   ]
  },
  {
   "cell_type": "markdown",
   "metadata": {},
   "source": [
    "So the best cross-validated parameters are a `rbf` kernel with `C = 1000`. Let's use the best model to predict on the test data."
   ]
  },
  {
   "cell_type": "code",
   "execution_count": 48,
   "metadata": {},
   "outputs": [
    {
     "ename": "NameError",
     "evalue": "name 'x_test' is not defined",
     "output_type": "error",
     "traceback": [
      "\u001b[0;31m---------------------------------------------------------------------------\u001b[0m",
      "\u001b[0;31mNameError\u001b[0m                                 Traceback (most recent call last)",
      "\u001b[0;32m<ipython-input-48-9a797c4caa6d>\u001b[0m in \u001b[0;36m<module>\u001b[0;34m()\u001b[0m\n\u001b[0;32m----> 1\u001b[0;31m \u001b[0mclf\u001b[0m\u001b[0;34m.\u001b[0m\u001b[0mscore\u001b[0m\u001b[0;34m(\u001b[0m\u001b[0mx_test\u001b[0m\u001b[0;34m,\u001b[0m \u001b[0my_test\u001b[0m\u001b[0;34m)\u001b[0m\u001b[0;34m\u001b[0m\u001b[0m\n\u001b[0m",
      "\u001b[0;31mNameError\u001b[0m: name 'x_test' is not defined"
     ]
    }
   ],
   "source": [
    "clf.score(x_test, y_test)"
   ]
  },
  {
   "cell_type": "markdown",
   "metadata": {},
   "source": [
    "94% accuracy. That seems pretty high. But how do know how good that actually is?"
   ]
  },
  {
   "cell_type": "markdown",
   "metadata": {},
   "source": [
    "# Evaluating the Model\n",
    "\n",
    "How much better is it than the no-information rate? The no-information rate is the accuracy we'd get if we guessed the most common class for every observation. It's the best we could do with no features."
   ]
  },
  {
   "cell_type": "code",
   "execution_count": null,
   "metadata": {},
   "outputs": [],
   "source": [
    "y_test.activity_id.value_counts().values[0] / y_test.activity_id.value_counts().values.sum()"
   ]
  },
  {
   "cell_type": "markdown",
   "metadata": {},
   "source": [
    "Our model's accuracy of 94% looks even better compared to the baseline of 18%. That's over five times more accurate than the no-information accuracy. But where does our model fail? Let's look at the crosstab."
   ]
  },
  {
   "cell_type": "code",
   "execution_count": null,
   "metadata": {
    "scrolled": true
   },
   "outputs": [],
   "source": [
    "crosstab = pd.crosstab(y_test.values.flatten(), clf.predict(x_test),\n",
    "                          rownames=['True'], colnames=['Predicted'],\n",
    "                          margins=True)\n",
    "crosstab"
   ]
  },
  {
   "cell_type": "markdown",
   "metadata": {},
   "source": [
    "We do really well for `activity_ids` 1-3, 5-6, and 8, but much worse for 4, 7 and 9-12. Why is that?\n",
    "\n",
    "One possible answer is that we don't have enough data. The `All` column on the right side of the crosstab bears that out. We have way fewer observations for activities 7-12.\n",
    "\n",
    "Additionally, it's clear the model seems to be systematically mistaking some activities for others (activities 4 and 5, 9 and 11, and 10 and 12 are confused for each other more than others). Maybe there's a reason for this. Let's put the labels on the `activity_ids` and see if we notice any patterns.\n",
    "\n",
    "I'll also convert the crosstab to percentages to make it a bit easier to interpret."
   ]
  },
  {
   "cell_type": "code",
   "execution_count": null,
   "metadata": {},
   "outputs": [],
   "source": [
    "#percentages_crosstab = crosstab.iloc[:-1, :-1].apply(lambda x: x/x.sum(), axis = 1)\n",
    "percentages_crosstab = crosstab.iloc[:-1, :-1]\n",
    "percentages_crosstab.columns = activity_df.activity_label.values\n",
    "percentages_crosstab.index = activity_df.activity_label.values\n",
    "percentages_crosstab"
   ]
  },
  {
   "cell_type": "markdown",
   "metadata": {},
   "source": [
    "That makes it way more clear. The model struggles to classify those `activity_ids` because they are similar actions. 4 and 5 are both stationary (sitting and standing), 9 and 11 both involving lying down (sit-to-lie and stand-to-lie), and 10 and 12 both involve standing up from a resting position (lie-to-sit and lie_to_stand). It makes sense that accelerometer data on these actions would be similar."
   ]
  },
  {
   "cell_type": "markdown",
   "metadata": {},
   "source": [
    "So with 94% accuracy in this activity classifier scenario, can we start a Fitbit competitor? Maybe.\n",
    "\n",
    "We don't necessarily need to distinguish between the 12 different activities themselves, only whether we should count it as walking. If we can predict whether someone is walking or not from the accelerometer with near perfect accuracy, we'd be in business."
   ]
  },
  {
   "cell_type": "markdown",
   "metadata": {},
   "source": [
    "## Predicting Walking vs. Not Walking\n",
    "\n",
    "So how do we classify walking? First we need to convert the labels to a binary to indicate whether they represent walking or staying in place. From the activity labels, we know that 1-3 are walking and everything other activity involves staying in place."
   ]
  },
  {
   "cell_type": "code",
   "execution_count": null,
   "metadata": {},
   "outputs": [],
   "source": [
    "y_train['walking_flag'] = y_train.activity_id.apply(lambda x: 1 if x <= 3 else 0)\n",
    "y_test['walking_flag'] = y_test.activity_id.apply(lambda x: 1 if x <= 3 else 0)"
   ]
  },
  {
   "cell_type": "markdown",
   "metadata": {},
   "source": [
    "Now, we'll train a new SVM model and find the optimal parameters with cross-validation."
   ]
  },
  {
   "cell_type": "code",
   "execution_count": null,
   "metadata": {},
   "outputs": [],
   "source": [
    "from sklearn.svm import SVC\n",
    "\n",
    "Cs = np.logspace(-6, 3, 10)\n",
    "parameters = [{'kernel': ['rbf'], 'C': Cs},\n",
    "              {'kernel': ['linear'], 'C': Cs}]\n",
    "\n",
    "svc = SVC(random_state = 12)\n",
    "\n",
    "clf_binary = GridSearchCV(estimator = svc, param_grid = parameters, cv = 5, n_jobs = -1)\n",
    "clf_binary.fit(x_train.values, y_train.walking_flag.values.flatten())"
   ]
  },
  {
   "cell_type": "code",
   "execution_count": null,
   "metadata": {},
   "outputs": [],
   "source": [
    "print clf_binary.best_estimator_\n",
    "print clf_binary.best_params_\n",
    "print clf_binary.best_score_"
   ]
  },
  {
   "cell_type": "code",
   "execution_count": null,
   "metadata": {},
   "outputs": [],
   "source": [
    "clf_binary.score(x_test, y_test.walking_flag)"
   ]
  },
  {
   "cell_type": "markdown",
   "metadata": {},
   "source": [
    "99.9% accuracy! Let's look at the crosstab."
   ]
  },
  {
   "cell_type": "code",
   "execution_count": null,
   "metadata": {},
   "outputs": [],
   "source": [
    "crosstab_binary = pd.crosstab(y_test.walking_flag.values.flatten(), clf_binary.predict(x_test),\n",
    "                          rownames=['True'], colnames=['Predicted'],\n",
    "                          margins=True)\n",
    "crosstab_binary"
   ]
  },
  {
   "cell_type": "markdown",
   "metadata": {},
   "source": [
    "That's beautiful! We can almost perfectly distinguish walking from staying in place from smartphone accelerometer data. Now we just need to measure the distance traveled and we're ready to compete with Fitbit."
   ]
  },
  {
   "cell_type": "code",
   "execution_count": null,
   "metadata": {},
   "outputs": [],
   "source": []
  }
 ],
 "metadata": {
  "anaconda-cloud": {},
  "kernelspec": {
   "display_name": "Python 3",
   "language": "python",
   "name": "python3"
  },
  "language_info": {
   "codemirror_mode": {
    "name": "ipython",
    "version": 3
   },
   "file_extension": ".py",
   "mimetype": "text/x-python",
   "name": "python",
   "nbconvert_exporter": "python",
   "pygments_lexer": "ipython3",
   "version": "3.6.4"
  }
 },
 "nbformat": 4,
 "nbformat_minor": 1
}
